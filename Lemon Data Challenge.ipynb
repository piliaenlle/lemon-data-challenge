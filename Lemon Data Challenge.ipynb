{
 "cells": [
  {
   "cell_type": "markdown",
   "metadata": {},
   "source": [
    "En esta notebook se calcula el LTV a partir del churn rate y ARPU"
   ]
  },
  {
   "cell_type": "code",
   "execution_count": 1,
   "metadata": {},
   "outputs": [],
   "source": [
    "from pyspark.sql import SparkSession\n",
    "from pyspark.sql.functions import countDistinct\n",
    "from pyspark.sql.functions import when, col\n",
    "\n",
    "spark = SparkSession \\\n",
    "    .builder \\\n",
    "    .appName(\"lemon data challenge\") \\\n",
    "    .config(\"spark.some.config.option\", \"some-value\") \\\n",
    "    .getOrCreate()"
   ]
  },
  {
   "cell_type": "markdown",
   "metadata": {},
   "source": [
    "### Import data"
   ]
  },
  {
   "cell_type": "code",
   "execution_count": 2,
   "metadata": {},
   "outputs": [
    {
     "name": "stdout",
     "output_type": "stream",
     "text": [
      "+-------------+--------------+----------+\n",
      "|base_currency|quote_currency|     price|\n",
      "+-------------+--------------+----------+\n",
      "|          UST|          USDT|1.00000000|\n",
      "+-------------+--------------+----------+\n",
      "only showing top 1 row\n",
      "\n"
     ]
    }
   ],
   "source": [
    "rates = spark.read.csv(\"rates.csv\", header=True)\n",
    "rates.show(1)"
   ]
  },
  {
   "cell_type": "code",
   "execution_count": 21,
   "metadata": {},
   "outputs": [
    {
     "name": "stdout",
     "output_type": "stream",
     "text": [
      "+--------------------+-------+------------+-----+--------------+----------------+--------+-------------------+\n",
      "|                  id|user_id|      amount|state|operation_type|transaction_type|currency|          createdat|\n",
      "+--------------------+-------+------------+-----+--------------+----------------+--------+-------------------+\n",
      "|00024dce-8d40-4ae...|3222205|100.02000000| DONE|        CREDIT|     CRYPTO_SALE|   MONEY|2022-03-03T14:36:05|\n",
      "+--------------------+-------+------------+-----+--------------+----------------+--------+-------------------+\n",
      "only showing top 1 row\n",
      "\n"
     ]
    }
   ],
   "source": [
    "transactions = spark.read.csv(\"transactions.csv\",  header=True)\n",
    "transactions.show(1)"
   ]
  },
  {
   "cell_type": "code",
   "execution_count": 4,
   "metadata": {},
   "outputs": [
    {
     "name": "stdout",
     "output_type": "stream",
     "text": [
      "+--------+------+----------+-------------------+\n",
      "| user_id|gender| birthdate|          createdat|\n",
      "+--------+------+----------+-------------------+\n",
      "|12589454|     m|1994-12-28|2021-12-17T19:19:32|\n",
      "+--------+------+----------+-------------------+\n",
      "only showing top 1 row\n",
      "\n"
     ]
    }
   ],
   "source": [
    "users = spark.read.csv(\"users.csv\",  header=True)\n",
    "users.show(1)"
   ]
  },
  {
   "cell_type": "markdown",
   "metadata": {},
   "source": [
    "### ARPU"
   ]
  },
  {
   "cell_type": "code",
   "execution_count": 5,
   "metadata": {},
   "outputs": [
    {
     "name": "stdout",
     "output_type": "stream",
     "text": [
      "+-----------------------------+\n",
      "|count(DISTINCT base_currency)|\n",
      "+-----------------------------+\n",
      "|                           15|\n",
      "+-----------------------------+\n",
      "\n"
     ]
    }
   ],
   "source": [
    "#Calculo cantidad de currencies\n",
    "n_curr = rates.select(countDistinct('base_currency'))\n",
    "n_curr.show()"
   ]
  },
  {
   "cell_type": "code",
   "execution_count": 6,
   "metadata": {},
   "outputs": [],
   "source": [
    "rates.createOrReplaceTempView(\"rates\")"
   ]
  },
  {
   "cell_type": "code",
   "execution_count": 7,
   "metadata": {},
   "outputs": [
    {
     "name": "stdout",
     "output_type": "stream",
     "text": [
      "+-------------+--------------+\n",
      "|base_currency|         price|\n",
      "+-------------+--------------+\n",
      "|          UST|    1.00000000|\n",
      "|         USDC|    0.99980000|\n",
      "|          SOL|  113.31000000|\n",
      "|          SLP|    0.01980000|\n",
      "|         SAND|    2.96240000|\n",
      "|          DOT|   19.83000000|\n",
      "|         MANA|    2.31350000|\n",
      "|          BTC|42670.00000000|\n",
      "|          ETH| 3236.38000000|\n",
      "|          ADA|    1.04600000|\n",
      "|          UNI|    9.83000000|\n",
      "|          AXS|   51.71000000|\n",
      "|         ALGO|    0.77670000|\n",
      "|         LUNA|   95.92000000|\n",
      "+-------------+--------------+\n",
      "\n"
     ]
    }
   ],
   "source": [
    "#Filtro los rates para quedarme con los cambios a USD \n",
    "rates_DF = spark.sql(\"SELECT base_currency, price FROM rates where quote_currency = 'USDT'\")\n",
    "rates_DF.show()"
   ]
  },
  {
   "cell_type": "code",
   "execution_count": 8,
   "metadata": {},
   "outputs": [
    {
     "name": "stdout",
     "output_type": "stream",
     "text": [
      "+-----------------------------+\n",
      "|count(DISTINCT base_currency)|\n",
      "+-----------------------------+\n",
      "|                           14|\n",
      "+-----------------------------+\n",
      "\n"
     ]
    }
   ],
   "source": [
    "rates_DF.select(countDistinct('base_currency')).show()\n",
    "\n",
    "#Todas tienen cambio a USDT, no necesito hacer pases intermedios"
   ]
  },
  {
   "cell_type": "code",
   "execution_count": 9,
   "metadata": {},
   "outputs": [
    {
     "name": "stdout",
     "output_type": "stream",
     "text": [
      "+--------------------+-------+------------+-----+--------------+----------------+--------+-------------------+-------------+-----+\n",
      "|                  id|user_id|      amount|state|operation_type|transaction_type|currency|          createdat|base_currency|price|\n",
      "+--------------------+-------+------------+-----+--------------+----------------+--------+-------------------+-------------+-----+\n",
      "|00024dce-8d40-4ae...|3222205|100.02000000| DONE|        CREDIT|     CRYPTO_SALE|   MONEY|2022-03-03T14:36:05|         null| null|\n",
      "+--------------------+-------+------------+-----+--------------+----------------+--------+-------------------+-------------+-----+\n",
      "only showing top 1 row\n",
      "\n"
     ]
    }
   ],
   "source": [
    "#Joineo para poder pasar a USD\n",
    "transactions = transactions.join(rates_DF,transactions.currency ==  rates_DF.base_currency,\"left\")\n",
    "transactions.show(1)"
   ]
  },
  {
   "cell_type": "code",
   "execution_count": 10,
   "metadata": {},
   "outputs": [
    {
     "name": "stdout",
     "output_type": "stream",
     "text": [
      "+--------+\n",
      "|currency|\n",
      "+--------+\n",
      "|   MONEY|\n",
      "|     DAI|\n",
      "|    USDT|\n",
      "+--------+\n",
      "\n"
     ]
    }
   ],
   "source": [
    "#Chequeo que currencies no tienen rate\n",
    "transactions.createOrReplaceTempView(\"transac_check\")\n",
    "spark.sql(\"SELECT distinct(currency) FROM transac_check where isNull(price)\").show()"
   ]
  },
  {
   "cell_type": "code",
   "execution_count": 11,
   "metadata": {},
   "outputs": [
    {
     "name": "stdout",
     "output_type": "stream",
     "text": [
      "+--------------------+-------+------------+-----+--------------+----------------+--------+-------------------+-------------+-----+------------+\n",
      "|                  id|user_id|      amount|state|operation_type|transaction_type|currency|          createdat|base_currency|price|  amount_USD|\n",
      "+--------------------+-------+------------+-----+--------------+----------------+--------+-------------------+-------------+-----+------------+\n",
      "|00024dce-8d40-4ae...|3222205|100.02000000| DONE|        CREDIT|     CRYPTO_SALE|   MONEY|2022-03-03T14:36:05|         null| null|100.02000000|\n",
      "+--------------------+-------+------------+-----+--------------+----------------+--------+-------------------+-------------+-----+------------+\n",
      "only showing top 1 row\n",
      "\n"
     ]
    }
   ],
   "source": [
    "#Asumo que money ya es USD\n",
    "transactions = transactions.withColumn('amount_USD', when((col('currency') == 'MONEY')|(col('currency') == 'DAI')|(col('currency') == 'USDT'), col('amount')).otherwise(transactions.amount * transactions.price))\n",
    "transactions.show(1)"
   ]
  },
  {
   "cell_type": "code",
   "execution_count": 12,
   "metadata": {},
   "outputs": [
    {
     "name": "stdout",
     "output_type": "stream",
     "text": [
      "+--------+\n",
      "|currency|\n",
      "+--------+\n",
      "+--------+\n",
      "\n"
     ]
    }
   ],
   "source": [
    "transactions.createOrReplaceTempView(\"transac_check2\")\n",
    "spark.sql(\"SELECT distinct(currency) FROM transac_check2 where isNull(amount_USD)\").show()"
   ]
  },
  {
   "cell_type": "code",
   "execution_count": 13,
   "metadata": {},
   "outputs": [
    {
     "data": {
      "text/plain": [
       "[Row(transaction_type='LEMON_CARD_PAYMENT'),\n",
       " Row(transaction_type='VIRTUAL_WITHDRAWAL'),\n",
       " Row(transaction_type='VIRTUAL_DEPOSIT'),\n",
       " Row(transaction_type='CASH_IN_CRYPTO'),\n",
       " Row(transaction_type='CRYPTO_SALE'),\n",
       " Row(transaction_type='CRYPTO_SWAP'),\n",
       " Row(transaction_type='CRYPTO_PURCHASE')]"
      ]
     },
     "execution_count": 13,
     "metadata": {},
     "output_type": "execute_result"
    }
   ],
   "source": [
    "transactions.select('transaction_type').distinct().collect()"
   ]
  },
  {
   "cell_type": "code",
   "execution_count": 14,
   "metadata": {},
   "outputs": [
    {
     "name": "stdout",
     "output_type": "stream",
     "text": [
      "+--------------------+-------+------------+-----+--------------+----------------+--------+-------------------+-------------+-----+------------+-------+\n",
      "|                  id|user_id|      amount|state|operation_type|transaction_type|currency|          createdat|base_currency|price|  amount_USD|percent|\n",
      "+--------------------+-------+------------+-----+--------------+----------------+--------+-------------------+-------------+-----+------------+-------+\n",
      "|00024dce-8d40-4ae...|3222205|100.02000000| DONE|        CREDIT|     CRYPTO_SALE|   MONEY|2022-03-03T14:36:05|         null| null|100.02000000|   0.02|\n",
      "+--------------------+-------+------------+-----+--------------+----------------+--------+-------------------+-------------+-----+------------+-------+\n",
      "only showing top 1 row\n",
      "\n"
     ]
    }
   ],
   "source": [
    "transactions = transactions.withColumn('percent', when(col('transaction_type') == 'CRYPTO_SWAP', 0.01).when((col('transaction_type') == 'CRYPTO_SALE')|(col('transaction_type') == 'CRYPTO_PURCHASE'), 0.02).when(col('transaction_type') == 'LEMON_CARD_PAYMENT', 0.05).otherwise(0))\n",
    "transactions.show(1)"
   ]
  },
  {
   "cell_type": "code",
   "execution_count": 15,
   "metadata": {},
   "outputs": [
    {
     "name": "stdout",
     "output_type": "stream",
     "text": [
      "+--------------------+-------+------------+-----+--------------+----------------+--------+-------------------+-------------+-----+------------+-------+-------+\n",
      "|                  id|user_id|      amount|state|operation_type|transaction_type|currency|          createdat|base_currency|price|  amount_USD|percent|revenue|\n",
      "+--------------------+-------+------------+-----+--------------+----------------+--------+-------------------+-------------+-----+------------+-------+-------+\n",
      "|00024dce-8d40-4ae...|3222205|100.02000000| DONE|        CREDIT|     CRYPTO_SALE|   MONEY|2022-03-03T14:36:05|         null| null|100.02000000|   0.02| 2.0004|\n",
      "+--------------------+-------+------------+-----+--------------+----------------+--------+-------------------+-------------+-----+------------+-------+-------+\n",
      "only showing top 1 row\n",
      "\n"
     ]
    }
   ],
   "source": [
    "transactions = transactions.withColumn('revenue',transactions.amount_USD * transactions.percent)\n",
    "transactions.show(1)"
   ]
  },
  {
   "cell_type": "code",
   "execution_count": 16,
   "metadata": {},
   "outputs": [
    {
     "name": "stdout",
     "output_type": "stream",
     "text": [
      "+--------------+-----------------+\n",
      "|total_usuarios|    revenue_total|\n",
      "+--------------+-----------------+\n",
      "|           380|461248.0122836356|\n",
      "+--------------+-----------------+\n",
      "\n"
     ]
    }
   ],
   "source": [
    "transactions.createOrReplaceTempView(\"rev\")\n",
    "rev = spark.sql(\"select count(distinct(user_id)) as total_usuarios, sum(abs(revenue)) as revenue_total from rev\")\n",
    "rev.show(1)"
   ]
  },
  {
   "cell_type": "code",
   "execution_count": 17,
   "metadata": {},
   "outputs": [
    {
     "name": "stdout",
     "output_type": "stream",
     "text": [
      "+--------------+-----------------+------------------+\n",
      "|total_usuarios|    revenue_total|              arpu|\n",
      "+--------------+-----------------+------------------+\n",
      "|           380|461248.0122836356|1213.8105586411464|\n",
      "+--------------+-----------------+------------------+\n",
      "\n"
     ]
    }
   ],
   "source": [
    "rev = rev.withColumn('arpu', rev.revenue_total/rev.total_usuarios)\n",
    "rev.show(1)"
   ]
  },
  {
   "cell_type": "code",
   "execution_count": 18,
   "metadata": {},
   "outputs": [
    {
     "data": {
      "text/plain": [
       "1213.8105586411464"
      ]
     },
     "execution_count": 18,
     "metadata": {},
     "output_type": "execute_result"
    }
   ],
   "source": [
    "arpu = rev.select(['arpu']).first()[0]\n",
    "arpu"
   ]
  },
  {
   "cell_type": "markdown",
   "metadata": {},
   "source": [
    "### Churn Rate"
   ]
  },
  {
   "cell_type": "code",
   "execution_count": 24,
   "metadata": {},
   "outputs": [
    {
     "name": "stdout",
     "output_type": "stream",
     "text": [
      "+----------------+-------+\n",
      "|cantidad_transac|user_id|\n",
      "+----------------+-------+\n",
      "|              41|2695455|\n",
      "+----------------+-------+\n",
      "only showing top 1 row\n",
      "\n"
     ]
    }
   ],
   "source": [
    "#Solo me quedo con las transacciones del ultimo mes cerrado (marzo) y las agrupo por usuario\n",
    "transactions.createOrReplaceTempView(\"grouped_transactions_march\")\n",
    "grouped_transactions_march = spark.sql(\"SELECT count(id) as cantidad_transac, user_id FROM grouped_transactions_march where createdat >= '2022-03-01' and createdat < '2022-04-01' group by user_id \")\n",
    "grouped_transactions_march.show(1)"
   ]
  },
  {
   "cell_type": "code",
   "execution_count": 25,
   "metadata": {},
   "outputs": [
    {
     "name": "stdout",
     "output_type": "stream",
     "text": [
      "+-----------------------+\n",
      "|count(DISTINCT user_id)|\n",
      "+-----------------------+\n",
      "|                    167|\n",
      "+-----------------------+\n",
      "\n"
     ]
    }
   ],
   "source": [
    "#Cantidad de usuarios de febrero\n",
    "transactions.createOrReplaceTempView(\"usuarios_activos_feb\")\n",
    "usuarios_activos_feb = spark.sql(\"SELECT count(distinct(user_id)) FROM usuarios_activos_feb where date(createdat) >= '2022-02-01' and date(createdat) < '2022-03-01'\")\n",
    "usuarios_activos_feb.show(1)"
   ]
  },
  {
   "cell_type": "code",
   "execution_count": 26,
   "metadata": {},
   "outputs": [
    {
     "name": "stdout",
     "output_type": "stream",
     "text": [
      "+-------+\n",
      "|user_id|\n",
      "+-------+\n",
      "|2695455|\n",
      "+-------+\n",
      "only showing top 1 row\n",
      "\n"
     ]
    }
   ],
   "source": [
    "#Base de usuarios de febrero\n",
    "transactions.createOrReplaceTempView(\"usuarios_activos_feb\")\n",
    "usuarios_activos_feb = spark.sql(\"SELECT distinct(user_id) FROM usuarios_activos_feb where date(createdat) >= '2022-02-01' and date(createdat) < '2022-03-01'\")\n",
    "usuarios_activos_feb.show(1)"
   ]
  },
  {
   "cell_type": "code",
   "execution_count": 28,
   "metadata": {},
   "outputs": [
    {
     "name": "stdout",
     "output_type": "stream",
     "text": [
      "+-----------------------+\n",
      "|count(DISTINCT user_id)|\n",
      "+-----------------------+\n",
      "|                    256|\n",
      "+-----------------------+\n",
      "\n"
     ]
    }
   ],
   "source": [
    "#Cantidad de usuarios de marzo\n",
    "transactions.createOrReplaceTempView(\"usuarios_activos_mar\")\n",
    "usuarios_activos_mar = spark.sql(\"SELECT count(distinct(user_id)) FROM usuarios_activos_mar where date(createdat) >= '2022-03-01' and date(createdat) < '2022-04-01'\")\n",
    "usuarios_activos_mar.show(1)"
   ]
  },
  {
   "cell_type": "code",
   "execution_count": 29,
   "metadata": {},
   "outputs": [
    {
     "name": "stdout",
     "output_type": "stream",
     "text": [
      "+-------+\n",
      "|user_id|\n",
      "+-------+\n",
      "|2695455|\n",
      "+-------+\n",
      "only showing top 1 row\n",
      "\n"
     ]
    }
   ],
   "source": [
    "#Base de usuarios de marzo\n",
    "transactions.createOrReplaceTempView(\"usuarios_activos_mar\")\n",
    "usuarios_activos_mar = spark.sql(\"SELECT distinct(user_id) FROM usuarios_activos_mar where date(createdat) >= '2022-03-01' and date(createdat) < '2022-04-01'\")\n",
    "usuarios_activos_mar.show(1)"
   ]
  },
  {
   "cell_type": "code",
   "execution_count": 31,
   "metadata": {},
   "outputs": [
    {
     "data": {
      "text/plain": [
       "48"
      ]
     },
     "execution_count": 31,
     "metadata": {},
     "output_type": "execute_result"
    }
   ],
   "source": [
    "#Cuento los usuarios de febrero que no tuvieron transacciones en marzo\n",
    "users_churn=usuarios_activos_feb.join(usuarios_activos_mar, [\"user_id\"], \"leftanti\").count()\n",
    "users_churn"
   ]
  },
  {
   "cell_type": "code",
   "execution_count": 32,
   "metadata": {},
   "outputs": [
    {
     "data": {
      "text/plain": [
       "167"
      ]
     },
     "execution_count": 32,
     "metadata": {},
     "output_type": "execute_result"
    }
   ],
   "source": [
    "usuarios_act_feb = usuarios_activos_feb.select(countDistinct('user_id')).collect()[0][0]\n",
    "usuarios_act_feb"
   ]
  },
  {
   "cell_type": "code",
   "execution_count": 34,
   "metadata": {},
   "outputs": [
    {
     "data": {
      "text/plain": [
       "0.2874251497005988"
      ]
     },
     "execution_count": 34,
     "metadata": {},
     "output_type": "execute_result"
    }
   ],
   "source": [
    "churn = users_churn/usuarios_act_feb\n",
    "churn"
   ]
  },
  {
   "cell_type": "markdown",
   "metadata": {},
   "source": [
    "### LTV"
   ]
  },
  {
   "cell_type": "code",
   "execution_count": 35,
   "metadata": {},
   "outputs": [
    {
     "data": {
      "text/plain": [
       "4223.049235272322"
      ]
     },
     "execution_count": 35,
     "metadata": {},
     "output_type": "execute_result"
    }
   ],
   "source": [
    "LTV = arpu/churn\n",
    "LTV"
   ]
  }
 ],
 "metadata": {
  "kernelspec": {
   "display_name": "Python 3",
   "language": "python",
   "name": "python3"
  },
  "language_info": {
   "codemirror_mode": {
    "name": "ipython",
    "version": 3
   },
   "file_extension": ".py",
   "mimetype": "text/x-python",
   "name": "python",
   "nbconvert_exporter": "python",
   "pygments_lexer": "ipython3",
   "version": "3.7.6"
  }
 },
 "nbformat": 4,
 "nbformat_minor": 4
}
